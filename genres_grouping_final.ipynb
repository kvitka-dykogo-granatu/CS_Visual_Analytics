{
 "cells": [
  {
   "cell_type": "code",
   "execution_count": null,
   "id": "809d7dda",
   "metadata": {},
   "outputs": [
    {
     "name": "stdout",
     "output_type": "stream",
     "text": [
      "✅ Saved deduplicated data: data/spotify_unique_genre_buckets.csv\n",
      "Rows before: 56058, after dedup: 37152\n"
     ]
    }
   ],
   "source": [
    "import pandas as pd\n",
    "import re\n",
    "\n",
    "INPUT_CSV = \"data/spotify_genres_exploded.csv\"\n",
    "OUTPUT_CSV = \"data/spotify_unique_genre_buckets.csv\"\n",
    "\n",
    "df = pd.read_csv(INPUT_CSV)\n",
    "\n",
    "df[\"artist_genres\"] = df[\"artist_genres\"].astype(str).str.strip().str.lower()\n",
    "\n",
    "BUCKETS = [\n",
    "    (\"EDM & Progressive\", [\n",
    "        r\"\\bedm\\b\", r\"\\bprogressive house\\b\", r\"\\bbig room\\b\", r\"\\bfuture house\\b\",\n",
    "        r\"\\btropical house\\b\", r\"\\belectro house\\b\", r\"\\bslap house\\b\", r\"\\bmelodic techno\\b\",\n",
    "        r\"\\btechno\\b\", r\"\\btrance house\\b\", r\"\\bstutter house\\b\"\n",
    "    ]),\n",
    "    (\"Trance\", [\n",
    "        r\"\\btrance\\b\", r\"\\bprogressive trance\\b\", r\"\\buplifting trance\\b\", r\"\\bpsytrance\\b\"\n",
    "    ]),\n",
    "    (\"Electronica / Chill\", [\n",
    "        r\"\\belectronica\\b\", r\"\\belectronic\\b\", r\"\\bambient(?!.*folk)\\b\", r\"\\bdowntempo\\b\",\n",
    "        r\"\\bvaporwave\\b\", r\"\\bsynthwave\\b\", r\"\\bchillwave\\b\", r\"\\bfuture bass\\b\",\n",
    "        r\"\\bmelodic bass\\b\", r\"\\blounge\\b\", r\"\\bspace music\\b\"\n",
    "    ]),\n",
    "    (\"Lo-Fi / Chillhop\", [\n",
    "        r\"\\blo-?fi\\b\", r\"\\blo-?fi beats\\b\", r\"\\blo-?fi hip hop\\b\", r\"\\bchillhop\\b\", r\"\\bjazz beats\\b\"\n",
    "    ]),\n",
    "    (\"Pop & Regional Pop\", [\n",
    "        r\"\\bpop\\b\", r\"\\beuropop\\b\", r\"\\bnorwegian pop\\b\", r\"\\bfrench pop\\b\", r\"\\bswedish pop\\b\",\n",
    "        r\"\\bitalo dance\\b\", r\"\\beurodance\\b\", r\"\\bdance pop\\b\", r\"\\belectropop\\b\",\n",
    "        r\"\\bsoft pop\\b\", r\"\\bbedroom pop\\b\", r\"\\bk-?pop\\b\", r\"\\bj-?pop\\b\", r\"\\bc-?pop\\b\",\n",
    "        r\"\\bmandopop\\b\", r\"\\bpop punk\\b\", r\"\\bpop rock\\b\"\n",
    "    ]),\n",
    "    (\"Rock / Metal / Core\", [\n",
    "        r\"\\brock\\b\", r\"\\bmetal\\b\", r\"\\bmetalcore\\b\", r\"\\bpost-hardcore\\b\", r\"\\bpost-rock\\b\",\n",
    "        r\"\\bprogressive (metal|rock)\\b\", r\"\\bdjent\\b\", r\"\\bscreamo\\b\", r\"\\bemo\\b\",\n",
    "        r\"\\bgrunge\\b\", r\"\\bpunk\\b\", r\"\\bhard rock\\b\", r\"\\bclassic rock\\b\",\n",
    "        r\"\\bfolk metal\\b\", r\"\\balternative (rock|metal)\\b\"\n",
    "    ]),\n",
    "    (\"Folk / Acoustic / Celtic\", [\n",
    "        r\"\\bfolk(?! metal)\\b\", r\"\\bfolk rock\\b\", r\"\\bindie folk\\b\", r\"\\bsea shanties\\b\",\n",
    "        r\"\\bceltic\\b\", r\"\\bmedieval\\b\", r\"\\bsinger-?songwriter\\b\", r\"\\bacoustic\\b\"\n",
    "    ]),\n",
    "    (\"Hip-Hop / Rap\", [\n",
    "        r\"\\bhip hop\\b\", r\"\\brap\\b\", r\"\\btrap(?!.*(metal|soul))\\b\", r\"\\bdrill\\b\", r\"\\buk drill\\b\",\n",
    "        r\"\\bgrime\\b\", r\"\\bphonk\\b\", r\"\\bemo rap\\b\", r\"\\bcloud rap\\b\"\n",
    "    ]),\n",
    "    (\"Soundtrack / Score / Musicals\", [\n",
    "        r\"\\bsoundtrack\\b\", r\"\\bmusicals?\\b\", r\"\\bvgm\\b\", r\"\\b(score|original score)\\b\"\n",
    "    ]),\n",
    "]\n",
    "\n",
    "def map_bucket(genre: str) -> str:\n",
    "    g = str(genre).lower().strip()\n",
    "    for bucket, patterns in BUCKETS:\n",
    "        for pat in patterns:\n",
    "            if re.search(pat, g):\n",
    "                return bucket\n",
    "    return \"Others\"\n",
    "\n",
    "df[\"genre_bucket\"] = df[\"artist_genres\"].apply(map_bucket)\n",
    "\n",
    "df[\"play_id\"] = df[\"ts\"].astype(str) + \"§\" + df[\"track_id\"].astype(str)\n",
    "\n",
    "dedup = (\n",
    "    df.drop_duplicates(subset=[\"play_id\", \"genre_bucket\"])\n",
    "      .reset_index(drop=True)\n",
    ")\n",
    "\n",
    "dedup.to_csv(OUTPUT_CSV, index=False)\n",
    "print(f\"✅ Saved deduplicated data: {OUTPUT_CSV}\")\n",
    "print(f\"Rows before: {len(df)}, after dedup: {len(dedup)}\")\n"
   ]
  },
  {
   "cell_type": "code",
   "execution_count": null,
   "id": "d52564c8",
   "metadata": {},
   "outputs": [],
   "source": []
  }
 ],
 "metadata": {
  "kernelspec": {
   "display_name": "Python (omnixai)",
   "language": "python",
   "name": "omnixai"
  },
  "language_info": {
   "codemirror_mode": {
    "name": "ipython",
    "version": 3
   },
   "file_extension": ".py",
   "mimetype": "text/x-python",
   "name": "python",
   "nbconvert_exporter": "python",
   "pygments_lexer": "ipython3",
   "version": "3.11.8"
  }
 },
 "nbformat": 4,
 "nbformat_minor": 5
}
